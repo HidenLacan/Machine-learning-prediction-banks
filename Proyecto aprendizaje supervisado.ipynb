{
 "cells": [
  {
   "cell_type": "markdown",
   "metadata": {},
   "source": [
    "## Índice del Proyecto\n",
    "\n",
    "1. [Descarga y Preparación de los Datos](#descarga-y-preparación-de-los-datos)\n",
    "2. [Examinar Equilibrio de Clases y Entrenamiento del Modelo Base](#examinar-equilibrio-de-clases-y-entrenamiento-del-modelo-base)   \n",
    "3. [Mejora de la Calidad del Modelo](#mejora-de-la-calidad-del-modelo)\n",
    "4. [Entrenando Diversos Modelos](#entrenando-diversos-modelos)\n",
    "5. [Conclusiones Generales](#prueba-final)"
   ]
  },
  {
   "cell_type": "markdown",
   "metadata": {},
   "source": [
    "### Descripción del proyecto\n",
    "Los clientes de Beta Bank se están yendo, cada mes, poco a poco. Los banqueros descubrieron que es más barato salvar a los clientes existentes que atraer nuevos.\n",
    "Necesitamos predecir si un cliente dejará el banco pronto. Tú tienes los datos sobre el comportamiento pasado de los clientes y la terminación de contratos con el banco.\n",
    "Crea un modelo con el máximo valor F1 posible. Para aprobar la revisión, necesitas un valor F1 de al menos 0.59. Verifica F1 para el conjunto de prueba. \n",
    "Además, debes medir la métrica AUC-ROC y compararla con el valor F1.\n",
    "\n"
   ]
  },
  {
   "cell_type": "markdown",
   "metadata": {},
   "source": [
    "\n",
    "### Descripción de los datos\n",
    "\n",
    "Características\n",
    "\n",
    "    RowNumber: índice de cadena de datos\n",
    "    CustomerId: identificador de cliente único\n",
    "    Surname: apellido\n",
    "    CreditScore: valor de crédito\n",
    "    Geography: país de residencia\n",
    "    Gender: sexo\n",
    "    Age: edad\n",
    "    Tenure: período durante el cual ha madurado el depósito a plazo fijo de un cliente (años)\n",
    "    Balance: saldo de la cuenta\n",
    "    NumOfProducts: número de productos bancarios utilizados por el cliente\n",
    "    HasCrCard: el cliente tiene una tarjeta de crédito (1 - sí; 0 - no)\n",
    "    IsActiveMember: actividad del cliente (1 - sí; 0 - no)\n",
    "    EstimatedSalary: salario estimado\n",
    "\n",
    "Objetivo\n",
    "\n",
    "    Exited: El cliente se ha ido (1 - sí; 0 - no)"
   ]
  },
  {
   "cell_type": "markdown",
   "metadata": {},
   "source": [
    "### Descarga y Preparación de los Datos"
   ]
  },
  {
   "cell_type": "code",
   "execution_count": 1,
   "metadata": {},
   "outputs": [],
   "source": [
    "from sklearn.preprocessing import StandardScaler\n",
    "import pandas as pd \n",
    "import numpy as np \n",
    "from sklearn.model_selection import train_test_split, GridSearchCV\n",
    "from sklearn.linear_model import LogisticRegression\n",
    "from sklearn.metrics import classification_report, f1_score, roc_auc_score, roc_curve, auc\n",
    "from sklearn.ensemble import RandomForestClassifier\n",
    "from sklearn.svm import SVC\n",
    "import matplotlib.pyplot as plt \n",
    "from sklearn.preprocessing import StandardScaler\n",
    "from sklearn.utils import resample\n",
    "from sklearn.pipeline import Pipeline"
   ]
  },
  {
   "cell_type": "markdown",
   "metadata": {},
   "source": [
    "Se importan las librerias necesarias para desarrollar el proyecto"
   ]
  },
  {
   "cell_type": "code",
   "execution_count": 2,
   "metadata": {},
   "outputs": [
    {
     "name": "stdout",
     "output_type": "stream",
     "text": [
      "<class 'pandas.core.frame.DataFrame'>\n",
      "RangeIndex: 10000 entries, 0 to 9999\n",
      "Data columns (total 14 columns):\n",
      " #   Column           Non-Null Count  Dtype  \n",
      "---  ------           --------------  -----  \n",
      " 0   RowNumber        10000 non-null  int64  \n",
      " 1   CustomerId       10000 non-null  int64  \n",
      " 2   Surname          10000 non-null  object \n",
      " 3   CreditScore      10000 non-null  int64  \n",
      " 4   Geography        10000 non-null  object \n",
      " 5   Gender           10000 non-null  object \n",
      " 6   Age              10000 non-null  int64  \n",
      " 7   Tenure           9091 non-null   float64\n",
      " 8   Balance          10000 non-null  float64\n",
      " 9   NumOfProducts    10000 non-null  int64  \n",
      " 10  HasCrCard        10000 non-null  int64  \n",
      " 11  IsActiveMember   10000 non-null  int64  \n",
      " 12  EstimatedSalary  10000 non-null  float64\n",
      " 13  Exited           10000 non-null  int64  \n",
      "dtypes: float64(3), int64(8), object(3)\n",
      "memory usage: 1.1+ MB\n"
     ]
    }
   ],
   "source": [
    "data = pd.read_csv('/datasets/Churn.csv')\n",
    "data.info()"
   ]
  },
  {
   "cell_type": "markdown",
   "metadata": {},
   "source": [
    "Se importa la informacion y se imprime los datos generales"
   ]
  },
  {
   "cell_type": "code",
   "execution_count": 3,
   "metadata": {},
   "outputs": [
    {
     "data": {
      "text/html": [
       "<div>\n",
       "<style scoped>\n",
       "    .dataframe tbody tr th:only-of-type {\n",
       "        vertical-align: middle;\n",
       "    }\n",
       "\n",
       "    .dataframe tbody tr th {\n",
       "        vertical-align: top;\n",
       "    }\n",
       "\n",
       "    .dataframe thead th {\n",
       "        text-align: right;\n",
       "    }\n",
       "</style>\n",
       "<table border=\"1\" class=\"dataframe\">\n",
       "  <thead>\n",
       "    <tr style=\"text-align: right;\">\n",
       "      <th></th>\n",
       "      <th>RowNumber</th>\n",
       "      <th>CustomerId</th>\n",
       "      <th>Surname</th>\n",
       "      <th>CreditScore</th>\n",
       "      <th>Geography</th>\n",
       "      <th>Gender</th>\n",
       "      <th>Age</th>\n",
       "      <th>Tenure</th>\n",
       "      <th>Balance</th>\n",
       "      <th>NumOfProducts</th>\n",
       "      <th>HasCrCard</th>\n",
       "      <th>IsActiveMember</th>\n",
       "      <th>EstimatedSalary</th>\n",
       "      <th>Exited</th>\n",
       "    </tr>\n",
       "  </thead>\n",
       "  <tbody>\n",
       "    <tr>\n",
       "      <th>0</th>\n",
       "      <td>1</td>\n",
       "      <td>15634602</td>\n",
       "      <td>Hargrave</td>\n",
       "      <td>619</td>\n",
       "      <td>France</td>\n",
       "      <td>Female</td>\n",
       "      <td>42</td>\n",
       "      <td>2.0</td>\n",
       "      <td>0.00</td>\n",
       "      <td>1</td>\n",
       "      <td>1</td>\n",
       "      <td>1</td>\n",
       "      <td>101348.88</td>\n",
       "      <td>1</td>\n",
       "    </tr>\n",
       "    <tr>\n",
       "      <th>1</th>\n",
       "      <td>2</td>\n",
       "      <td>15647311</td>\n",
       "      <td>Hill</td>\n",
       "      <td>608</td>\n",
       "      <td>Spain</td>\n",
       "      <td>Female</td>\n",
       "      <td>41</td>\n",
       "      <td>1.0</td>\n",
       "      <td>83807.86</td>\n",
       "      <td>1</td>\n",
       "      <td>0</td>\n",
       "      <td>1</td>\n",
       "      <td>112542.58</td>\n",
       "      <td>0</td>\n",
       "    </tr>\n",
       "    <tr>\n",
       "      <th>2</th>\n",
       "      <td>3</td>\n",
       "      <td>15619304</td>\n",
       "      <td>Onio</td>\n",
       "      <td>502</td>\n",
       "      <td>France</td>\n",
       "      <td>Female</td>\n",
       "      <td>42</td>\n",
       "      <td>8.0</td>\n",
       "      <td>159660.80</td>\n",
       "      <td>3</td>\n",
       "      <td>1</td>\n",
       "      <td>0</td>\n",
       "      <td>113931.57</td>\n",
       "      <td>1</td>\n",
       "    </tr>\n",
       "    <tr>\n",
       "      <th>3</th>\n",
       "      <td>4</td>\n",
       "      <td>15701354</td>\n",
       "      <td>Boni</td>\n",
       "      <td>699</td>\n",
       "      <td>France</td>\n",
       "      <td>Female</td>\n",
       "      <td>39</td>\n",
       "      <td>1.0</td>\n",
       "      <td>0.00</td>\n",
       "      <td>2</td>\n",
       "      <td>0</td>\n",
       "      <td>0</td>\n",
       "      <td>93826.63</td>\n",
       "      <td>0</td>\n",
       "    </tr>\n",
       "    <tr>\n",
       "      <th>4</th>\n",
       "      <td>5</td>\n",
       "      <td>15737888</td>\n",
       "      <td>Mitchell</td>\n",
       "      <td>850</td>\n",
       "      <td>Spain</td>\n",
       "      <td>Female</td>\n",
       "      <td>43</td>\n",
       "      <td>2.0</td>\n",
       "      <td>125510.82</td>\n",
       "      <td>1</td>\n",
       "      <td>1</td>\n",
       "      <td>1</td>\n",
       "      <td>79084.10</td>\n",
       "      <td>0</td>\n",
       "    </tr>\n",
       "  </tbody>\n",
       "</table>\n",
       "</div>"
      ],
      "text/plain": [
       "   RowNumber  CustomerId   Surname  CreditScore Geography  Gender  Age  \\\n",
       "0          1    15634602  Hargrave          619    France  Female   42   \n",
       "1          2    15647311      Hill          608     Spain  Female   41   \n",
       "2          3    15619304      Onio          502    France  Female   42   \n",
       "3          4    15701354      Boni          699    France  Female   39   \n",
       "4          5    15737888  Mitchell          850     Spain  Female   43   \n",
       "\n",
       "   Tenure    Balance  NumOfProducts  HasCrCard  IsActiveMember  \\\n",
       "0     2.0       0.00              1          1               1   \n",
       "1     1.0   83807.86              1          0               1   \n",
       "2     8.0  159660.80              3          1               0   \n",
       "3     1.0       0.00              2          0               0   \n",
       "4     2.0  125510.82              1          1               1   \n",
       "\n",
       "   EstimatedSalary  Exited  \n",
       "0        101348.88       1  \n",
       "1        112542.58       0  \n",
       "2        113931.57       1  \n",
       "3         93826.63       0  \n",
       "4         79084.10       0  "
      ]
     },
     "execution_count": 3,
     "metadata": {},
     "output_type": "execute_result"
    }
   ],
   "source": [
    "data.head(5)"
   ]
  },
  {
   "cell_type": "code",
   "execution_count": 4,
   "metadata": {},
   "outputs": [
    {
     "name": "stdout",
     "output_type": "stream",
     "text": [
      "Numero de registros duplicados:  0\n"
     ]
    }
   ],
   "source": [
    "duplicados = data[data.duplicated()]\n",
    "print('Numero de registros duplicados: ', duplicados.shape[0])"
   ]
  },
  {
   "cell_type": "code",
   "execution_count": 5,
   "metadata": {},
   "outputs": [
    {
     "data": {
      "text/html": [
       "<div>\n",
       "<style scoped>\n",
       "    .dataframe tbody tr th:only-of-type {\n",
       "        vertical-align: middle;\n",
       "    }\n",
       "\n",
       "    .dataframe tbody tr th {\n",
       "        vertical-align: top;\n",
       "    }\n",
       "\n",
       "    .dataframe thead th {\n",
       "        text-align: right;\n",
       "    }\n",
       "</style>\n",
       "<table border=\"1\" class=\"dataframe\">\n",
       "  <thead>\n",
       "    <tr style=\"text-align: right;\">\n",
       "      <th></th>\n",
       "      <th>RowNumber</th>\n",
       "      <th>CustomerId</th>\n",
       "      <th>CreditScore</th>\n",
       "      <th>Age</th>\n",
       "      <th>Tenure</th>\n",
       "      <th>Balance</th>\n",
       "      <th>NumOfProducts</th>\n",
       "      <th>HasCrCard</th>\n",
       "      <th>IsActiveMember</th>\n",
       "      <th>EstimatedSalary</th>\n",
       "      <th>Exited</th>\n",
       "    </tr>\n",
       "  </thead>\n",
       "  <tbody>\n",
       "    <tr>\n",
       "      <th>count</th>\n",
       "      <td>10000.00000</td>\n",
       "      <td>1.000000e+04</td>\n",
       "      <td>10000.000000</td>\n",
       "      <td>10000.000000</td>\n",
       "      <td>9091.000000</td>\n",
       "      <td>10000.000000</td>\n",
       "      <td>10000.000000</td>\n",
       "      <td>10000.00000</td>\n",
       "      <td>10000.000000</td>\n",
       "      <td>10000.000000</td>\n",
       "      <td>10000.000000</td>\n",
       "    </tr>\n",
       "    <tr>\n",
       "      <th>mean</th>\n",
       "      <td>5000.50000</td>\n",
       "      <td>1.569094e+07</td>\n",
       "      <td>650.528800</td>\n",
       "      <td>38.921800</td>\n",
       "      <td>4.997690</td>\n",
       "      <td>76485.889288</td>\n",
       "      <td>1.530200</td>\n",
       "      <td>0.70550</td>\n",
       "      <td>0.515100</td>\n",
       "      <td>100090.239881</td>\n",
       "      <td>0.203700</td>\n",
       "    </tr>\n",
       "    <tr>\n",
       "      <th>std</th>\n",
       "      <td>2886.89568</td>\n",
       "      <td>7.193619e+04</td>\n",
       "      <td>96.653299</td>\n",
       "      <td>10.487806</td>\n",
       "      <td>2.894723</td>\n",
       "      <td>62397.405202</td>\n",
       "      <td>0.581654</td>\n",
       "      <td>0.45584</td>\n",
       "      <td>0.499797</td>\n",
       "      <td>57510.492818</td>\n",
       "      <td>0.402769</td>\n",
       "    </tr>\n",
       "    <tr>\n",
       "      <th>min</th>\n",
       "      <td>1.00000</td>\n",
       "      <td>1.556570e+07</td>\n",
       "      <td>350.000000</td>\n",
       "      <td>18.000000</td>\n",
       "      <td>0.000000</td>\n",
       "      <td>0.000000</td>\n",
       "      <td>1.000000</td>\n",
       "      <td>0.00000</td>\n",
       "      <td>0.000000</td>\n",
       "      <td>11.580000</td>\n",
       "      <td>0.000000</td>\n",
       "    </tr>\n",
       "    <tr>\n",
       "      <th>25%</th>\n",
       "      <td>2500.75000</td>\n",
       "      <td>1.562853e+07</td>\n",
       "      <td>584.000000</td>\n",
       "      <td>32.000000</td>\n",
       "      <td>2.000000</td>\n",
       "      <td>0.000000</td>\n",
       "      <td>1.000000</td>\n",
       "      <td>0.00000</td>\n",
       "      <td>0.000000</td>\n",
       "      <td>51002.110000</td>\n",
       "      <td>0.000000</td>\n",
       "    </tr>\n",
       "    <tr>\n",
       "      <th>50%</th>\n",
       "      <td>5000.50000</td>\n",
       "      <td>1.569074e+07</td>\n",
       "      <td>652.000000</td>\n",
       "      <td>37.000000</td>\n",
       "      <td>5.000000</td>\n",
       "      <td>97198.540000</td>\n",
       "      <td>1.000000</td>\n",
       "      <td>1.00000</td>\n",
       "      <td>1.000000</td>\n",
       "      <td>100193.915000</td>\n",
       "      <td>0.000000</td>\n",
       "    </tr>\n",
       "    <tr>\n",
       "      <th>75%</th>\n",
       "      <td>7500.25000</td>\n",
       "      <td>1.575323e+07</td>\n",
       "      <td>718.000000</td>\n",
       "      <td>44.000000</td>\n",
       "      <td>7.000000</td>\n",
       "      <td>127644.240000</td>\n",
       "      <td>2.000000</td>\n",
       "      <td>1.00000</td>\n",
       "      <td>1.000000</td>\n",
       "      <td>149388.247500</td>\n",
       "      <td>0.000000</td>\n",
       "    </tr>\n",
       "    <tr>\n",
       "      <th>max</th>\n",
       "      <td>10000.00000</td>\n",
       "      <td>1.581569e+07</td>\n",
       "      <td>850.000000</td>\n",
       "      <td>92.000000</td>\n",
       "      <td>10.000000</td>\n",
       "      <td>250898.090000</td>\n",
       "      <td>4.000000</td>\n",
       "      <td>1.00000</td>\n",
       "      <td>1.000000</td>\n",
       "      <td>199992.480000</td>\n",
       "      <td>1.000000</td>\n",
       "    </tr>\n",
       "  </tbody>\n",
       "</table>\n",
       "</div>"
      ],
      "text/plain": [
       "         RowNumber    CustomerId   CreditScore           Age       Tenure  \\\n",
       "count  10000.00000  1.000000e+04  10000.000000  10000.000000  9091.000000   \n",
       "mean    5000.50000  1.569094e+07    650.528800     38.921800     4.997690   \n",
       "std     2886.89568  7.193619e+04     96.653299     10.487806     2.894723   \n",
       "min        1.00000  1.556570e+07    350.000000     18.000000     0.000000   \n",
       "25%     2500.75000  1.562853e+07    584.000000     32.000000     2.000000   \n",
       "50%     5000.50000  1.569074e+07    652.000000     37.000000     5.000000   \n",
       "75%     7500.25000  1.575323e+07    718.000000     44.000000     7.000000   \n",
       "max    10000.00000  1.581569e+07    850.000000     92.000000    10.000000   \n",
       "\n",
       "             Balance  NumOfProducts    HasCrCard  IsActiveMember  \\\n",
       "count   10000.000000   10000.000000  10000.00000    10000.000000   \n",
       "mean    76485.889288       1.530200      0.70550        0.515100   \n",
       "std     62397.405202       0.581654      0.45584        0.499797   \n",
       "min         0.000000       1.000000      0.00000        0.000000   \n",
       "25%         0.000000       1.000000      0.00000        0.000000   \n",
       "50%     97198.540000       1.000000      1.00000        1.000000   \n",
       "75%    127644.240000       2.000000      1.00000        1.000000   \n",
       "max    250898.090000       4.000000      1.00000        1.000000   \n",
       "\n",
       "       EstimatedSalary        Exited  \n",
       "count     10000.000000  10000.000000  \n",
       "mean     100090.239881      0.203700  \n",
       "std       57510.492818      0.402769  \n",
       "min          11.580000      0.000000  \n",
       "25%       51002.110000      0.000000  \n",
       "50%      100193.915000      0.000000  \n",
       "75%      149388.247500      0.000000  \n",
       "max      199992.480000      1.000000  "
      ]
     },
     "execution_count": 5,
     "metadata": {},
     "output_type": "execute_result"
    }
   ],
   "source": [
    "data.describe()"
   ]
  },
  {
   "cell_type": "markdown",
   "metadata": {},
   "source": [
    "Se imprimen algunos datos, posteriormente se revisa si existen duplicados y se imprime el comando describe para visualizar metricas generales de los datos."
   ]
  },
  {
   "cell_type": "code",
   "execution_count": 6,
   "metadata": {},
   "outputs": [
    {
     "data": {
      "image/png": "[encoded data removed]",
      "text/plain": [
       "<Figure size 720x432 with 1 Axes>"
      ]
     },
     "metadata": {
      "needs_background": "light"
     },
     "output_type": "display_data"
    }
   ],
   "source": [
    "valoresobj = data['Exited'].value_counts()\n",
    "colores = ['red', 'blue']\n",
    "etiquetas = ['permanece', 'afuera']\n",
    "\n",
    "ax = valoresobj.plot(kind='bar', figsize=(10, 6), color=colores)\n",
    "plt.title('Distribución de la columna Exited')\n",
    "plt.xlabel('Valores')\n",
    "plt.ylabel('Número de valores')\n",
    "plt.xticks(rotation=45)\n",
    "\n",
    "for bar in ax.patches:\n",
    "    yval = bar.get_height()\n",
    "    plt.text(bar.get_x() + bar.get_width()/2, yval + 0.05, yval, ha='center', va='bottom')\n",
    "\n",
    "handles = [plt.Rectangle((0, 0), 1, 1, color=colores[i]) for i in range(len(etiquetas))]\n",
    "plt.legend(handles, etiquetas, title=\"Tipo de cliente\")\n",
    "plt.tight_layout()\n",
    "plt.show()\n",
    "\n",
    "\n"
   ]
  },
  {
   "cell_type": "markdown",
   "metadata": {},
   "source": [
    "Se clasifican y visualizan los datos correspondientes a la columna exited para corroborar el desequilibrio que podria existir en los datos otorgados."
   ]
  },
  {
   "cell_type": "code",
   "execution_count": 7,
   "metadata": {},
   "outputs": [
    {
     "data": {
      "text/plain": [
       "RowNumber            0\n",
       "CustomerId           0\n",
       "Surname              0\n",
       "CreditScore          0\n",
       "Geography            0\n",
       "Gender               0\n",
       "Age                  0\n",
       "Tenure             909\n",
       "Balance              0\n",
       "NumOfProducts        0\n",
       "HasCrCard            0\n",
       "IsActiveMember       0\n",
       "EstimatedSalary      0\n",
       "Exited               0\n",
       "dtype: int64"
      ]
     },
     "execution_count": 7,
     "metadata": {},
     "output_type": "execute_result"
    }
   ],
   "source": [
    "data.isnull().sum()"
   ]
  },
  {
   "cell_type": "code",
   "execution_count": 8,
   "metadata": {},
   "outputs": [
    {
     "data": {
      "image/png": "[encoded data removed]",
      "text/plain": [
       "<Figure size 720x432 with 1 Axes>"
      ]
     },
     "metadata": {
      "needs_background": "light"
     },
     "output_type": "display_data"
    }
   ],
   "source": [
    "valoresobj = data['Tenure'].value_counts()\n",
    "ax = valoresobj.plot(kind='bar', figsize=(10, 6))\n",
    "plt.title('Distribución de la columna Tenure')\n",
    "plt.xlabel('Valores')\n",
    "plt.ylabel('Número de valores')\n",
    "plt.xticks(rotation=45)\n",
    "for bar in ax.patches:\n",
    "    yval = bar.get_height()\n",
    "    plt.text(bar.get_x() + bar.get_width()/2, yval + 0.05, yval, ha='center', va='bottom')\n",
    "handles = [plt.Rectangle((0, 0), 1, 1, color=colores[i]) for i in range(len(etiquetas))]\n",
    "plt.tight_layout()\n",
    "plt.show()\n"
   ]
  },
  {
   "cell_type": "code",
   "execution_count": 9,
   "metadata": {},
   "outputs": [
    {
     "data": {
      "text/plain": [
       "RowNumber          0\n",
       "CustomerId         0\n",
       "Surname            0\n",
       "CreditScore        0\n",
       "Geography          0\n",
       "Gender             0\n",
       "Age                0\n",
       "Tenure             0\n",
       "Balance            0\n",
       "NumOfProducts      0\n",
       "HasCrCard          0\n",
       "IsActiveMember     0\n",
       "EstimatedSalary    0\n",
       "Exited             0\n",
       "dtype: int64"
      ]
     },
     "execution_count": 9,
     "metadata": {},
     "output_type": "execute_result"
    }
   ],
   "source": [
    "data_median = data[data['Tenure'].notnull()]['Tenure'].mean()\n",
    "data['Tenure'].fillna(data_median,inplace=True)\n",
    "data.isnull().sum()"
   ]
  },
  {
   "cell_type": "code",
   "execution_count": 10,
   "metadata": {},
   "outputs": [
    {
     "data": {
      "image/png": "[encoded data removed]",
      "text/plain": [
       "<Figure size 720x432 with 1 Axes>"
      ]
     },
     "metadata": {
      "needs_background": "light"
     },
     "output_type": "display_data"
    }
   ],
   "source": [
    "valoresobj = data['Tenure'].value_counts()\n",
    "ax = valoresobj.plot(kind='bar', figsize=(10, 6))\n",
    "plt.title('Distribución de la columna Tenure')\n",
    "plt.xlabel('Valores')\n",
    "plt.ylabel('Número de valores')\n",
    "plt.xticks(rotation=45)\n",
    "for bar in ax.patches:\n",
    "    yval = bar.get_height()\n",
    "    plt.text(bar.get_x() + bar.get_width()/2, yval + 0.05, yval, ha='center', va='bottom')\n",
    "handles = [plt.Rectangle((0, 0), 1, 1, color=colores[i]) for i in range(len(etiquetas))]\n",
    "plt.tight_layout()\n",
    "plt.show()\n"
   ]
  },
  {
   "cell_type": "markdown",
   "metadata": {},
   "source": [
    "Se reemplazan los datos nulos con la media de la columna Tenure visualizando que no afecta la distribucion en el proceso de correcion de nulos."
   ]
  },
  {
   "cell_type": "markdown",
   "metadata": {},
   "source": [
    "### Examinar Equilibrio de Clases y Entrenamiento del Modelo Base"
   ]
  },
  {
   "cell_type": "code",
   "execution_count": 11,
   "metadata": {},
   "outputs": [
    {
     "data": {
      "text/html": [
       "<div>\n",
       "<style scoped>\n",
       "    .dataframe tbody tr th:only-of-type {\n",
       "        vertical-align: middle;\n",
       "    }\n",
       "\n",
       "    .dataframe tbody tr th {\n",
       "        vertical-align: top;\n",
       "    }\n",
       "\n",
       "    .dataframe thead th {\n",
       "        text-align: right;\n",
       "    }\n",
       "</style>\n",
       "<table border=\"1\" class=\"dataframe\">\n",
       "  <thead>\n",
       "    <tr style=\"text-align: right;\">\n",
       "      <th></th>\n",
       "      <th>CreditScore</th>\n",
       "      <th>Age</th>\n",
       "      <th>Tenure</th>\n",
       "      <th>Balance</th>\n",
       "      <th>NumOfProducts</th>\n",
       "      <th>HasCrCard</th>\n",
       "      <th>IsActiveMember</th>\n",
       "      <th>EstimatedSalary</th>\n",
       "      <th>Exited</th>\n",
       "      <th>Geography_Germany</th>\n",
       "      <th>Geography_Spain</th>\n",
       "      <th>Gender_Male</th>\n",
       "    </tr>\n",
       "  </thead>\n",
       "  <tbody>\n",
       "    <tr>\n",
       "      <th>0</th>\n",
       "      <td>619</td>\n",
       "      <td>42</td>\n",
       "      <td>2.00000</td>\n",
       "      <td>0.00</td>\n",
       "      <td>1</td>\n",
       "      <td>1</td>\n",
       "      <td>1</td>\n",
       "      <td>101348.88</td>\n",
       "      <td>1</td>\n",
       "      <td>0</td>\n",
       "      <td>0</td>\n",
       "      <td>0</td>\n",
       "    </tr>\n",
       "    <tr>\n",
       "      <th>1</th>\n",
       "      <td>608</td>\n",
       "      <td>41</td>\n",
       "      <td>1.00000</td>\n",
       "      <td>83807.86</td>\n",
       "      <td>1</td>\n",
       "      <td>0</td>\n",
       "      <td>1</td>\n",
       "      <td>112542.58</td>\n",
       "      <td>0</td>\n",
       "      <td>0</td>\n",
       "      <td>1</td>\n",
       "      <td>0</td>\n",
       "    </tr>\n",
       "    <tr>\n",
       "      <th>2</th>\n",
       "      <td>502</td>\n",
       "      <td>42</td>\n",
       "      <td>8.00000</td>\n",
       "      <td>159660.80</td>\n",
       "      <td>3</td>\n",
       "      <td>1</td>\n",
       "      <td>0</td>\n",
       "      <td>113931.57</td>\n",
       "      <td>1</td>\n",
       "      <td>0</td>\n",
       "      <td>0</td>\n",
       "      <td>0</td>\n",
       "    </tr>\n",
       "    <tr>\n",
       "      <th>3</th>\n",
       "      <td>699</td>\n",
       "      <td>39</td>\n",
       "      <td>1.00000</td>\n",
       "      <td>0.00</td>\n",
       "      <td>2</td>\n",
       "      <td>0</td>\n",
       "      <td>0</td>\n",
       "      <td>93826.63</td>\n",
       "      <td>0</td>\n",
       "      <td>0</td>\n",
       "      <td>0</td>\n",
       "      <td>0</td>\n",
       "    </tr>\n",
       "    <tr>\n",
       "      <th>4</th>\n",
       "      <td>850</td>\n",
       "      <td>43</td>\n",
       "      <td>2.00000</td>\n",
       "      <td>125510.82</td>\n",
       "      <td>1</td>\n",
       "      <td>1</td>\n",
       "      <td>1</td>\n",
       "      <td>79084.10</td>\n",
       "      <td>0</td>\n",
       "      <td>0</td>\n",
       "      <td>1</td>\n",
       "      <td>0</td>\n",
       "    </tr>\n",
       "    <tr>\n",
       "      <th>...</th>\n",
       "      <td>...</td>\n",
       "      <td>...</td>\n",
       "      <td>...</td>\n",
       "      <td>...</td>\n",
       "      <td>...</td>\n",
       "      <td>...</td>\n",
       "      <td>...</td>\n",
       "      <td>...</td>\n",
       "      <td>...</td>\n",
       "      <td>...</td>\n",
       "      <td>...</td>\n",
       "      <td>...</td>\n",
       "    </tr>\n",
       "    <tr>\n",
       "      <th>9995</th>\n",
       "      <td>771</td>\n",
       "      <td>39</td>\n",
       "      <td>5.00000</td>\n",
       "      <td>0.00</td>\n",
       "      <td>2</td>\n",
       "      <td>1</td>\n",
       "      <td>0</td>\n",
       "      <td>96270.64</td>\n",
       "      <td>0</td>\n",
       "      <td>0</td>\n",
       "      <td>0</td>\n",
       "      <td>1</td>\n",
       "    </tr>\n",
       "    <tr>\n",
       "      <th>9996</th>\n",
       "      <td>516</td>\n",
       "      <td>35</td>\n",
       "      <td>10.00000</td>\n",
       "      <td>57369.61</td>\n",
       "      <td>1</td>\n",
       "      <td>1</td>\n",
       "      <td>1</td>\n",
       "      <td>101699.77</td>\n",
       "      <td>0</td>\n",
       "      <td>0</td>\n",
       "      <td>0</td>\n",
       "      <td>1</td>\n",
       "    </tr>\n",
       "    <tr>\n",
       "      <th>9997</th>\n",
       "      <td>709</td>\n",
       "      <td>36</td>\n",
       "      <td>7.00000</td>\n",
       "      <td>0.00</td>\n",
       "      <td>1</td>\n",
       "      <td>0</td>\n",
       "      <td>1</td>\n",
       "      <td>42085.58</td>\n",
       "      <td>1</td>\n",
       "      <td>0</td>\n",
       "      <td>0</td>\n",
       "      <td>0</td>\n",
       "    </tr>\n",
       "    <tr>\n",
       "      <th>9998</th>\n",
       "      <td>772</td>\n",
       "      <td>42</td>\n",
       "      <td>3.00000</td>\n",
       "      <td>75075.31</td>\n",
       "      <td>2</td>\n",
       "      <td>1</td>\n",
       "      <td>0</td>\n",
       "      <td>92888.52</td>\n",
       "      <td>1</td>\n",
       "      <td>1</td>\n",
       "      <td>0</td>\n",
       "      <td>1</td>\n",
       "    </tr>\n",
       "    <tr>\n",
       "      <th>9999</th>\n",
       "      <td>792</td>\n",
       "      <td>28</td>\n",
       "      <td>4.99769</td>\n",
       "      <td>130142.79</td>\n",
       "      <td>1</td>\n",
       "      <td>1</td>\n",
       "      <td>0</td>\n",
       "      <td>38190.78</td>\n",
       "      <td>0</td>\n",
       "      <td>0</td>\n",
       "      <td>0</td>\n",
       "      <td>0</td>\n",
       "    </tr>\n",
       "  </tbody>\n",
       "</table>\n",
       "<p>10000 rows × 12 columns</p>\n",
       "</div>"
      ],
      "text/plain": [
       "      CreditScore  Age    Tenure    Balance  NumOfProducts  HasCrCard  \\\n",
       "0             619   42   2.00000       0.00              1          1   \n",
       "1             608   41   1.00000   83807.86              1          0   \n",
       "2             502   42   8.00000  159660.80              3          1   \n",
       "3             699   39   1.00000       0.00              2          0   \n",
       "4             850   43   2.00000  125510.82              1          1   \n",
       "...           ...  ...       ...        ...            ...        ...   \n",
       "9995          771   39   5.00000       0.00              2          1   \n",
       "9996          516   35  10.00000   57369.61              1          1   \n",
       "9997          709   36   7.00000       0.00              1          0   \n",
       "9998          772   42   3.00000   75075.31              2          1   \n",
       "9999          792   28   4.99769  130142.79              1          1   \n",
       "\n",
       "      IsActiveMember  EstimatedSalary  Exited  Geography_Germany  \\\n",
       "0                  1        101348.88       1                  0   \n",
       "1                  1        112542.58       0                  0   \n",
       "2                  0        113931.57       1                  0   \n",
       "3                  0         93826.63       0                  0   \n",
       "4                  1         79084.10       0                  0   \n",
       "...              ...              ...     ...                ...   \n",
       "9995               0         96270.64       0                  0   \n",
       "9996               1        101699.77       0                  0   \n",
       "9997               1         42085.58       1                  0   \n",
       "9998               0         92888.52       1                  1   \n",
       "9999               0         38190.78       0                  0   \n",
       "\n",
       "      Geography_Spain  Gender_Male  \n",
       "0                   0            0  \n",
       "1                   1            0  \n",
       "2                   0            0  \n",
       "3                   0            0  \n",
       "4                   1            0  \n",
       "...               ...          ...  \n",
       "9995                0            1  \n",
       "9996                0            1  \n",
       "9997                0            0  \n",
       "9998                0            1  \n",
       "9999                0            0  \n",
       "\n",
       "[10000 rows x 12 columns]"
      ]
     },
     "execution_count": 11,
     "metadata": {},
     "output_type": "execute_result"
    }
   ],
   "source": [
    "data = data.drop(['RowNumber', 'CustomerId', 'Surname'], axis=1)\n",
    "data = pd.get_dummies(data,drop_first=True)\n",
    "data"
   ]
  },
  {
   "cell_type": "markdown",
   "metadata": {},
   "source": [
    "Se eliminan las columnas categoricas para convertirlas en variables dummy o indicadoras para preparar los datos para la posterior modelacion. "
   ]
  },
  {
   "cell_type": "code",
   "execution_count": 12,
   "metadata": {},
   "outputs": [],
   "source": [
    "features = data.drop(columns=['Exited'])\n",
    "target= data['Exited']"
   ]
  },
  {
   "cell_type": "markdown",
   "metadata": {},
   "source": [
    "Se divide el conjunto de datos en caracteristicas y objetivo, tomando en cuenta las columnas destinadas para el proposito,de este modo, la variable target se convierte en la dependiente y la propuesta a ser predecida."
   ]
  },
  {
   "cell_type": "code",
   "execution_count": 13,
   "metadata": {},
   "outputs": [
    {
     "name": "stdout",
     "output_type": "stream",
     "text": [
      "Training set: (7000, 11) (7000,)\n",
      "Validation set: (1500, 11) (1500,)\n",
      "Test set: (1500, 11) (1500,)\n"
     ]
    }
   ],
   "source": [
    "features_train,features_temp, target_train, target_temp = train_test_split(features,target,test_size=0.3,random_state=123456789)\n",
    "features_valid,features_test,target_valid,target_test = train_test_split(features_temp,target_temp,test_size=0.5,random_state=123456789)\n",
    "\n",
    "print('Training set:', features_train.shape, target_train.shape)\n",
    "print('Validation set:', features_valid.shape, target_valid.shape)\n",
    "print('Test set:', features_test.shape, target_test.shape)\n"
   ]
  },
  {
   "cell_type": "markdown",
   "metadata": {},
   "source": [
    "Se parte el conjunto de datos en tres partes: entrenamiento, validacion y prueba."
   ]
  },
  {
   "cell_type": "code",
   "execution_count": 14,
   "metadata": {},
   "outputs": [
    {
     "name": "stdout",
     "output_type": "stream",
     "text": [
      "Resultados con el conjunto de validación:\n",
      "               precision    recall  f1-score   support\n",
      "\n",
      "           0       0.80      0.98      0.88      1181\n",
      "           1       0.56      0.07      0.13       319\n",
      "\n",
      "    accuracy                           0.79      1500\n",
      "   macro avg       0.68      0.53      0.50      1500\n",
      "weighted avg       0.75      0.79      0.72      1500\n",
      "\n",
      "AUC-ROC: 0.69\n",
      "F1 Score: 0.13\n"
     ]
    },
    {
     "data": {
      "image/png": "[encoded data removed]",
      "text/plain": [
       "<Figure size 720x576 with 1 Axes>"
      ]
     },
     "metadata": {
      "needs_background": "light"
     },
     "output_type": "display_data"
    }
   ],
   "source": [
    "\n",
    "# Entrenar el modelo\n",
    "model = LogisticRegression(max_iter=1000)\n",
    "model.fit(features_train, target_train)\n",
    "\n",
    "# Predicción de clases\n",
    "predicted_valid_classes = model.predict(features_valid)\n",
    "print('Resultados con el conjunto de validación:\\n', classification_report(target_valid, predicted_valid_classes))\n",
    "\n",
    "# Predicción de probabilidades para AUC-ROC\n",
    "predicted_valid_proba = model.predict_proba(features_valid)[:, 1]\n",
    "auc_roc = roc_auc_score(target_valid, predicted_valid_proba)\n",
    "print(f'AUC-ROC: {auc_roc:.2f}')\n",
    "\n",
    "# Cálculo del puntaje F1\n",
    "f1 = f1_score(target_valid, predicted_valid_classes)\n",
    "print(f'F1 Score: {f1:.2f}')\n",
    "\n",
    "# Generación de la curva ROC\n",
    "fpr, tpr, thresholds = roc_curve(target_valid, predicted_valid_proba)\n",
    "roc_auc = auc(fpr, tpr)\n",
    "plt.figure(figsize=(10, 8))\n",
    "plt.plot(fpr, tpr, color='darkorange', lw=2, label=f'ROC curve (area = {roc_auc:.2f})')\n",
    "plt.plot([0, 1], [0, 1], color='navy', lw=2, linestyle='--')\n",
    "plt.xlim([0.0, 1.0])\n",
    "plt.ylim([0.0, 1.05])\n",
    "plt.xlabel('False Positive Rate')\n",
    "plt.ylabel('True Positive Rate')\n",
    "plt.title('Receiver Operating Characteristic (ROC)')\n",
    "plt.legend(loc=\"lower right\")\n",
    "plt.show()\n"
   ]
  },
  {
   "cell_type": "markdown",
   "metadata": {},
   "source": [
    "Se entrena el primer modelo sin tratar los datos en desquilibrio, se calcula el AUC-Roc y el f1 Score de acuerdo al desempeño del modelo, visualizando un 0.08 en F1."
   ]
  },
  {
   "cell_type": "markdown",
   "metadata": {},
   "source": [
    "### Mejora de la Calidad del Modelo"
   ]
  },
  {
   "cell_type": "markdown",
   "metadata": {},
   "source": [
    "##### Manejo de desequilibrio con Upsampler"
   ]
  },
  {
   "cell_type": "code",
   "execution_count": 15,
   "metadata": {},
   "outputs": [
    {
     "name": "stdout",
     "output_type": "stream",
     "text": [
      "Resultados con resampling manual:\n",
      "               precision    recall  f1-score   support\n",
      "\n",
      "           0       0.89      0.67      0.77      1181\n",
      "           1       0.36      0.70      0.48       319\n",
      "\n",
      "    accuracy                           0.68      1500\n",
      "   macro avg       0.63      0.69      0.62      1500\n",
      "weighted avg       0.78      0.68      0.70      1500\n",
      "\n",
      "AUC-ROC: 0.72\n",
      "F1 Score: 0.48\n"
     ]
    },
    {
     "data": {
      "image/png": "[encoded data removed]",
      "text/plain": [
       "<Figure size 720x576 with 1 Axes>"
      ]
     },
     "metadata": {
      "needs_background": "light"
     },
     "output_type": "display_data"
    }
   ],
   "source": [
    "# Separate majority and minority classes\n",
    "majority = features_train[target_train == 0]\n",
    "minority = features_train[target_train == 1]\n",
    "\n",
    "# Upsample minority class\n",
    "minority_upsampled = resample(minority,\n",
    "                              replace=True,      # Sample with replacement\n",
    "                              n_samples=len(majority),   # To match majority class\n",
    "                              random_state=12345)  # Reproducible results\n",
    "\n",
    "# Combine majority class with upsampled minority class\n",
    "upsampled_features = pd.concat([majority, minority_upsampled])\n",
    "upsampled_target = pd.concat([target_train[target_train == 0], target_train[target_train == 1].sample(len(majority), replace=True, random_state=12345)])\n",
    "\n",
    "# Downsample majority class\n",
    "majority_downsampled = resample(majority,\n",
    "                                replace=False,    # Sample without replacement\n",
    "                                n_samples=len(minority),     # To match minority class\n",
    "                                random_state=12345)  # Reproducible results\n",
    "\n",
    "# Combine minority class with downsampled majority class\n",
    "downsampled_features = pd.concat([majority_downsampled, minority])\n",
    "downsampled_target = pd.concat([target_train[target_train == 0].sample(len(minority), replace=False, random_state=12345), target_train[target_train == 1]])\n",
    "\n",
    "# You can choose to use either upsampled or downsampled data for training your model\n",
    "# For this example, let's use the upsampled data\n",
    "model = LogisticRegression(max_iter=1000)\n",
    "model.fit(upsampled_features, upsampled_target)\n",
    "predict = model.predict(features_valid)\n",
    "\n",
    "# Print classification report\n",
    "print('Resultados con resampling manual:\\n', classification_report(target_valid, predict))\n",
    "\n",
    "# Calculate the probabilities for the ROC curve\n",
    "predicted_valid_proba = model.predict_proba(features_valid)[:, 1]\n",
    "\n",
    "# Calculate AUC-ROC\n",
    "auc_roc = roc_auc_score(target_valid, predicted_valid_proba)\n",
    "print(f'AUC-ROC: {auc_roc:.2f}')\n",
    "\n",
    "# Calculate F1 score\n",
    "f1 = f1_score(target_valid, predict)\n",
    "print(f'F1 Score: {f1:.2f}')\n",
    "\n",
    "# Generate the ROC curve data\n",
    "fpr, tpr, thresholds = roc_curve(target_valid, predicted_valid_proba)\n",
    "roc_auc = auc(fpr, tpr)\n",
    "\n",
    "# Plot the ROC curve\n",
    "plt.figure(figsize=(10, 8))\n",
    "plt.plot(fpr, tpr, color='darkorange', lw=2, label=f'ROC curve (area = {roc_auc:.2f})')\n",
    "plt.plot([0, 1], [0, 1], color='navy', lw=2, linestyle='--')\n",
    "plt.xlim([0.0, 1.0])\n",
    "plt.ylim([0.0, 1.05])\n",
    "plt.xlabel('False Positive Rate')\n",
    "plt.ylabel('True Positive Rate')\n",
    "plt.title('Receiver Operating Characteristic (ROC)')\n",
    "plt.legend(loc=\"lower right\")\n",
    "plt.show()\n",
    "\n"
   ]
  },
  {
   "cell_type": "markdown",
   "metadata": {},
   "source": [
    "\n",
    "La técnica Upsampler aplicada al conjunto de datos ha mejorado la detección de la clase minoritaria a costa de una precisión reducida para esta clase, con un puntaje F1 de 0.48, lo que sugiere un balance entre precisión y recall aún mejorable. El AUC-ROC de 0.72 indica un rendimiento moderado. Los resultados sugieren que se deben explorar estrategias adicionales para mejorar el rendimiento del modelo, especialmente para la clase minoritaria."
   ]
  },
  {
   "cell_type": "markdown",
   "metadata": {},
   "source": [
    "#### Manejo de desequilibrio con under sampler"
   ]
  },
  {
   "cell_type": "code",
   "execution_count": 16,
   "metadata": {
    "scrolled": true
   },
   "outputs": [
    {
     "name": "stdout",
     "output_type": "stream",
     "text": [
      "Resultados con Random Under Sampling:\n",
      "               precision    recall  f1-score   support\n",
      "\n",
      "           0       0.85      0.51      0.64      1181\n",
      "           1       0.27      0.68      0.39       319\n",
      "\n",
      "    accuracy                           0.55      1500\n",
      "   macro avg       0.56      0.59      0.51      1500\n",
      "weighted avg       0.73      0.55      0.59      1500\n",
      "\n",
      "AUC-ROC: 0.62\n",
      "F1 Score: 0.39\n"
     ]
    },
    {
     "data": {
      "image/png": "[encoded data removed]",
      "text/plain": [
       "<Figure size 720x576 with 1 Axes>"
      ]
     },
     "metadata": {
      "needs_background": "light"
     },
     "output_type": "display_data"
    }
   ],
   "source": [
    "# Identify the majority and minority classes\n",
    "majority_class = target_train.value_counts().idxmax()\n",
    "minority_class = target_train.value_counts().idxmin()\n",
    "\n",
    "# Separate the majority and minority classes in the training set\n",
    "majority_class_indices = target_train[target_train == majority_class].index\n",
    "minority_class_indices = target_train[target_train == minority_class].index\n",
    "\n",
    "# Randomly sample from the majority class without replacement to match the size of the minority class\n",
    "under_sample_indices = np.random.choice(majority_class_indices,\n",
    "                                        size=len(minority_class_indices),\n",
    "                                        replace=False)\n",
    "\n",
    "# Combine the minority indices with the downsampled majority indices\n",
    "under_sampled_indices = np.concatenate([minority_class_indices, under_sample_indices])\n",
    "\n",
    "\n",
    "# Get the features and target for the under sampled data\n",
    "features_rus_train = features_train.loc[under_sampled_indices]\n",
    "target_rus_train = target_train.loc[under_sampled_indices]\n",
    "\n",
    "# Create and train the logistic regression model\n",
    "model_rus = LogisticRegression(max_iter=3000)\n",
    "model_rus.fit(features_rus_train, target_rus_train)\n",
    "\n",
    "# Make predictions on the validation set\n",
    "predict_rus = model_rus.predict(features_valid)\n",
    "print('Resultados con Random Under Sampling:\\n', classification_report(target_valid, predict_rus))\n",
    "\n",
    "# Calculate the probabilities for the ROC curve\n",
    "predicted_valid_proba = model_rus.predict_proba(features_valid)[:, 1]\n",
    "\n",
    "# Calculate AUC-ROC\n",
    "auc_roc = roc_auc_score(target_valid, predicted_valid_proba)\n",
    "print(f'AUC-ROC: {auc_roc:.2f}')\n",
    "\n",
    "# Calculate F1 score\n",
    "f1 = f1_score(target_valid, predict_rus)\n",
    "print(f'F1 Score: {f1:.2f}')\n",
    "\n",
    "# Generate the ROC curve data\n",
    "fpr, tpr, thresholds = roc_curve(target_valid, predicted_valid_proba)\n",
    "roc_auc = auc(fpr, tpr)\n",
    "\n",
    "# Plot the ROC curve\n",
    "plt.figure(figsize=(10, 8))\n",
    "plt.plot(fpr, tpr, color='darkorange', lw=2, label=f'ROC curve (area = {roc_auc:.2f})')\n",
    "plt.plot([0, 1], [0, 1], color='navy', lw=2, linestyle='--')  # Draws the random classification line\n",
    "plt.xlim([0.0, 1.0])\n",
    "plt.ylim([0.0, 1.05])\n",
    "plt.xlabel('False Positive Rate')\n",
    "plt.ylabel('True Positive Rate')\n",
    "plt.title('Receiver Operating Characteristic (ROC)')\n",
    "plt.legend(loc=\"lower right\")\n",
    "plt.show()"
   ]
  },
  {
   "cell_type": "markdown",
   "metadata": {},
   "source": [
    "El uso de RandomUnderSAmpler para el manejo de desquilibrio tiene un rendimiento aceptable pero muy parecido al Smote de esta forma se observa la similitud de valores en el puntaje F1, concluyendo que es mejor cambiar del tipo de modelo para aumentar las probabilidades de ajustar adecuadamente el f1Score."
   ]
  },
  {
   "cell_type": "code",
   "execution_count": 20,
   "metadata": {},
   "outputs": [
    {
     "data": {
      "text/plain": [
       "0    1402\n",
       "1    1402\n",
       "Name: Exited, dtype: int64"
      ]
     },
     "execution_count": 20,
     "metadata": {},
     "output_type": "execute_result"
    }
   ],
   "source": [
    "target_rus_train.value_counts()"
   ]
  },
  {
   "cell_type": "markdown",
   "metadata": {},
   "source": [
    "### Entrenando Diversos Modelos"
   ]
  },
  {
   "cell_type": "markdown",
   "metadata": {},
   "source": [
    "#### RandomForestClassifier Model "
   ]
  },
  {
   "cell_type": "code",
   "execution_count": 17,
   "metadata": {},
   "outputs": [
    {
     "name": "stdout",
     "output_type": "stream",
     "text": [
      "Resultados con Random Forest Classifier:\n",
      "               precision    recall  f1-score   support\n",
      "\n",
      "           0       0.87      0.97      0.92      1181\n",
      "           1       0.82      0.47      0.60       319\n",
      "\n",
      "    accuracy                           0.87      1500\n",
      "   macro avg       0.85      0.72      0.76      1500\n",
      "weighted avg       0.86      0.87      0.85      1500\n",
      "\n",
      "AUC-ROC con Random Forest Classifier: 0.86\n",
      "F1 Score: 0.60\n"
     ]
    },
    {
     "data": {
      "image/png": "[encoded data removed]",
      "text/plain": [
       "<Figure size 720x576 with 1 Axes>"
      ]
     },
     "metadata": {
      "needs_background": "light"
     },
     "output_type": "display_data"
    }
   ],
   "source": [
    "model_rf = RandomForestClassifier(random_state=123456789,max_depth=100,n_estimators=70)\n",
    "model_rf.fit(features_train,target_train)\n",
    "predicted_rf = model_rf.predict(features_valid)\n",
    "print('Resultados con Random Forest Classifier:\\n',classification_report(target_valid,predicted_rf))\n",
    "predicted_valid_proba_rf = model_rf.predict_proba(features_valid)[:,1]\n",
    "auc_roc_rf = roc_auc_score(target_valid,predicted_valid_proba_rf)\n",
    "print(f'AUC-ROC con Random Forest Classifier: {auc_roc_rf:.2f}')\n",
    "# Cálculo del puntaje F1\n",
    "f1 = f1_score(target_valid, predicted_rf)\n",
    "print(f'F1 Score: {f1:.2f}')\n",
    "fpr, tpr,thresholds = roc_curve(target_valid,predicted_valid_proba_rf)\n",
    "roc_auc = auc(fpr,tpr)\n",
    "plt.figure(figsize=(10, 8))\n",
    "plt.plot(fpr, tpr, color='darkorange', lw=2, label='ROC curve (area = %0.2f)' % roc_auc)\n",
    "plt.plot([0, 1], [0, 1], color='navy', lw=2, linestyle='--')  # Dibuja la línea de clasificación aleatoria\n",
    "plt.xlim([0.0, 1.0])\n",
    "plt.ylim([0.0, 1.05])\n",
    "plt.xlabel('False Positive Rate')\n",
    "plt.ylabel('True Positive Rate')\n",
    "plt.title('Receiver Operating Characteristic (ROC)')\n",
    "plt.legend(loc=\"lower right\")\n",
    "plt.show()"
   ]
  },
  {
   "cell_type": "markdown",
   "metadata": {},
   "source": [
    "Se optó por utilizar el modelo RandomForestClassifier, entrenando el modelo con datos no tratados, los hiperparametros se han elegido por estimación, tanto el calculo del AUC-ROC es del 0.86 con un F1Score de 0.60 lo cual es una buena medida para predecir los datos y alcanzar los parametros suficientes del proyecto, sin embargo, puede mejorar."
   ]
  },
  {
   "cell_type": "markdown",
   "metadata": {},
   "source": [
    "#### RandomForestClassifier Model con manejo de desequilibrio under sampler"
   ]
  },
  {
   "cell_type": "code",
   "execution_count": 18,
   "metadata": {},
   "outputs": [
    {
     "name": "stdout",
     "output_type": "stream",
     "text": [
      "Resultados con Random Forest Classifier and Smote :\n",
      "               precision    recall  f1-score   support\n",
      "\n",
      "           0       0.88      0.95      0.91      1181\n",
      "           1       0.74      0.53      0.62       319\n",
      "\n",
      "    accuracy                           0.86      1500\n",
      "   macro avg       0.81      0.74      0.77      1500\n",
      "weighted avg       0.85      0.86      0.85      1500\n",
      "\n",
      "AUC-ROC con Random Forest Classifier and Undersampler : 0.87\n",
      "F1 Score: 0.62\n"
     ]
    },
    {
     "data": {
      "image/png": "[encoded data removed]",
      "text/plain": [
       "<Figure size 720x576 with 1 Axes>"
      ]
     },
     "metadata": {
      "needs_background": "light"
     },
     "output_type": "display_data"
    }
   ],
   "source": [
    "\n",
    "model_rf_smote = RandomForestClassifier(random_state=123456789,max_depth=150,n_estimators=150)\n",
    "model_rf_smote.fit(upsampled_features, upsampled_target)\n",
    "predicted_rf = model_rf_smote.predict(features_valid)\n",
    "print('Resultados con Random Forest Classifier and Smote :\\n',classification_report(target_valid,predicted_rf))\n",
    "predicted_valid_proba_rf_smote = model_rf_smote.predict_proba(features_valid)[:,1]\n",
    "auc_roc_rf_smote = roc_auc_score(target_valid,predicted_valid_proba_rf_smote)\n",
    "print(f'AUC-ROC con Random Forest Classifier and Undersampler : {auc_roc_rf_smote:.2f}')\n",
    "# Cálculo del puntaje F1\n",
    "f1 = f1_score(target_valid, predicted_rf)\n",
    "print(f'F1 Score: {f1:.2f}')\n",
    "fpr, tpr,thresholds = roc_curve(target_valid,predicted_valid_proba_rf_smote)\n",
    "roc_auc = auc(fpr,tpr)\n",
    "plt.figure(figsize=(10, 8))\n",
    "plt.plot(fpr, tpr, color='darkorange', lw=2, label='ROC curve (area = %0.2f)' % roc_auc)\n",
    "plt.plot([0, 1], [0, 1], color='navy', lw=2, linestyle='--')  # Dibuja la línea de clasificación aleatoria\n",
    "plt.xlim([0.0, 1.0])\n",
    "plt.ylim([0.0, 1.05])\n",
    "plt.xlabel('False Positive Rate')\n",
    "plt.ylabel('True Positive Rate')\n",
    "plt.title('Receiver Operating Characteristic (ROC)')\n",
    "plt.legend(loc=\"lower right\")\n",
    "plt.show()"
   ]
  },
  {
   "cell_type": "markdown",
   "metadata": {},
   "source": [
    "En el segundo modelo Random Forest Classifier se entrena con informacion manejando el desequilibrio por medio de Under sampler dando un AUC-ROC de 0.87 con un F1-Score de 0.62, siendo un buen puntaje para predeciry superar los parametros propuestos para el proyecto en cuanto a la visuallización de la ROC muestra una tendencia positiva lo cual se puede interpretar como interpretación de forma adecuada."
   ]
  },
  {
   "cell_type": "markdown",
   "metadata": {},
   "source": [
    "### Conclusiones Generales"
   ]
  },
  {
   "cell_type": "markdown",
   "metadata": {},
   "source": [
    "El proyecto se enfoca en prevenir la fuga de los clientes , lo que resulta se más económico que adquirir nuevos. utilizando los datos del comportamiento de los clientes, de esta forma se ha determinado que utilizar el modelo RandomForest es una buena opción para identificar con anticipación aquellos clientes que tienen la probabilidad de abandonar el banco.\n",
    "\n",
    "De esta manera, el enfoque del proyecto ha sido optimizar el valor de F1, que es una métrica balanceada entre la precisión y la sensibilidad, crucial para minimizar los falsos positivos(clientes que se identifican erróneamente como propensos a irse) como los falsos negativos (clientes que se van pero el modelo no identifica).\n",
    "\n",
    "Los resultados del modelo tomando en cuenta el RandomForest con entrenamiento sin procesamiento de desequilibrio muestra un valor f1 de 0.62 en comparacion con el modelo de Lineal Regression que desmuestra ser deficiente con un f1 de 0.42.\n",
    "\n",
    "La métrica AUC-ROC de dicho modelo que ha demostrado ser el mejor es de 0.87.Que sirve precisamente para tener una estimacion de equilibrio en la clasificacion de las clases.\n",
    "\n",
    "En el modelo se implemento el GridSearchCV y se entrenó el modelo con un conjunto de datos balanceado a través de la técnica Random Under Sampling. Se ha logrado una buena precisión para la clase maypritaria(clientes que se quedan), pero la precisión para la clase minoritaria(clientes que se van) es baja.\n",
    "\n",
    "En general, el modelo es un punto de partida para identificar clientes en riesgo de abandonar el banco, pero podría optimizarse para mejorar el rendimiento."
   ]
  },
  {
   "cell_type": "code",
   "execution_count": null,
   "metadata": {},
   "outputs": [],
   "source": []
  }
 ],
 "metadata": {
  "kernelspec": {
   "display_name": "Python 3 (ipykernel)",
   "language": "python",
   "name": "python3"
  },
  "language_info": {
   "codemirror_mode": {
    "name": "ipython",
    "version": 3
   },
   "file_extension": ".py",
   "mimetype": "text/x-python",
   "name": "python",
   "nbconvert_exporter": "python",
   "pygments_lexer": "ipython3",
   "version": "3.9.5"
  },
  "toc": {
   "base_numbering": 1,
   "nav_menu": {},
   "number_sections": true,
   "sideBar": true,
   "skip_h1_title": true,
   "title_cell": "Table of Contents",
   "title_sidebar": "Contents",
   "toc_cell": false,
   "toc_position": {},
   "toc_section_display": true,
   "toc_window_display": false
  }
 },
 "nbformat": 4,
 "nbformat_minor": 2
}
